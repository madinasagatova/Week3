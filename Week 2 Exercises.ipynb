{
 "cells": [
  {
   "cell_type": "markdown",
   "id": "ef40401a",
   "metadata": {},
   "source": [
    "## Exercise 1: \n",
    "\n",
    "Rewrite your pay computation to give the employee 1.5\n",
    "times the hourly rate for hours worked above 40 hours."
   ]
  },
  {
   "cell_type": "code",
   "execution_count": null,
   "id": "26dce3b1",
   "metadata": {},
   "outputs": [],
   "source": [
    "hours = in"
   ]
  }
 ],
 "metadata": {
  "kernelspec": {
   "display_name": "Python 3 (ipykernel)",
   "language": "python",
   "name": "python3"
  },
  "language_info": {
   "codemirror_mode": {
    "name": "ipython",
    "version": 3
   },
   "file_extension": ".py",
   "mimetype": "text/x-python",
   "name": "python",
   "nbconvert_exporter": "python",
   "pygments_lexer": "ipython3",
   "version": "3.11.5"
  }
 },
 "nbformat": 4,
 "nbformat_minor": 5
}
